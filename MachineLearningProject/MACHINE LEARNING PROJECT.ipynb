{
 "cells": [
  {
   "cell_type": "markdown",
   "id": "5c095af3",
   "metadata": {},
   "source": [
    "<h1 style=\"text-align: center\"><b> Diabetes Prediction </b></h1>\n",
    "<h2 style=\"text-align: center\"> Machine Learning </h2>"
   ]
  },
  {
   "cell_type": "code",
   "execution_count": 6,
   "id": "e8f9c3d2",
   "metadata": {},
   "outputs": [
    {
     "ename": "SyntaxError",
     "evalue": "invalid syntax (993326800.py, line 1)",
     "output_type": "error",
     "traceback": [
      "\u001b[0;36m  Input \u001b[0;32mIn [6]\u001b[0;36m\u001b[0m\n\u001b[0;31m    pip install imbalanced-learn\u001b[0m\n\u001b[0m        ^\u001b[0m\n\u001b[0;31mSyntaxError\u001b[0m\u001b[0;31m:\u001b[0m invalid syntax\n"
     ]
    }
   ],
   "source": [
    "pip install imbalanced-learn\n",
    "pip install --upgrade scikit-learn\n",
    "\n",
    "#UNCOMMENT IF YOU DID NOT DOWNLOAD THEM ALREADY"
   ]
  },
  {
   "cell_type": "code",
   "execution_count": 5,
   "id": "f196e230",
   "metadata": {},
   "outputs": [
    {
     "ename": "ModuleNotFoundError",
     "evalue": "No module named 'imblearn'",
     "output_type": "error",
     "traceback": [
      "\u001b[0;31m---------------------------------------------------------------------------\u001b[0m",
      "\u001b[0;31mModuleNotFoundError\u001b[0m                       Traceback (most recent call last)",
      "Input \u001b[0;32mIn [5]\u001b[0m, in \u001b[0;36m<cell line: 11>\u001b[0;34m()\u001b[0m\n\u001b[1;32m      8\u001b[0m \u001b[38;5;28;01mfrom\u001b[39;00m \u001b[38;5;21;01msklearn\u001b[39;00m\u001b[38;5;21;01m.\u001b[39;00m\u001b[38;5;21;01mlinear_model\u001b[39;00m \u001b[38;5;28;01mimport\u001b[39;00m LogisticRegression\n\u001b[1;32m      9\u001b[0m \u001b[38;5;28;01mfrom\u001b[39;00m \u001b[38;5;21;01msklearn\u001b[39;00m\u001b[38;5;21;01m.\u001b[39;00m\u001b[38;5;21;01mmetrics\u001b[39;00m \u001b[38;5;28;01mimport\u001b[39;00m accuracy_score, confusion_matrix, f1_score, recall_score, precision_score, make_scorer, fbeta_score\n\u001b[0;32m---> 11\u001b[0m \u001b[38;5;28;01mfrom\u001b[39;00m \u001b[38;5;21;01mimblearn\u001b[39;00m\u001b[38;5;21;01m.\u001b[39;00m\u001b[38;5;21;01munder_sampling\u001b[39;00m \u001b[38;5;28;01mimport\u001b[39;00m RandomUnderSampler\n\u001b[1;32m     12\u001b[0m \u001b[38;5;28;01mfrom\u001b[39;00m \u001b[38;5;21;01mimblearn\u001b[39;00m\u001b[38;5;21;01m.\u001b[39;00m\u001b[38;5;21;01mover_sampling\u001b[39;00m \u001b[38;5;28;01mimport\u001b[39;00m SMOTE\n",
      "\u001b[0;31mModuleNotFoundError\u001b[0m: No module named 'imblearn'"
     ]
    }
   ],
   "source": [
    "import seaborn as sns\n",
    "import pandas as pd\n",
    "import numpy as np\n",
    "import matplotlib.pyplot as plt\n",
    "import random\n",
    "\n",
    "import sklearn.neighbors\n",
    "from mpl_toolkits.mplot3d import Axes3D\n",
    "from sklearn.preprocessing import StandardScaler\n",
    "from sklearn import decomposition\n",
    "from sklearn.decomposition import PCA\n",
    "\n",
    "\n",
    "from sklearn.model_selection import train_test_split, cross_val_score, GridSearchCV, cross_val_predict\n",
    "from sklearn.linear_model import LogisticRegression\n",
    "from sklearn.metrics import accuracy_score, confusion_matrix, f1_score, recall_score, precision_score, make_scorer, fbeta_score\n",
    "\n",
    "from imblearn.under_sampling import RandomUnderSampler\n",
    "from imblearn.over_sampling import SMOTE\n",
    "\n",
    "def confusion(y_test: np.array, y_pred: np.array, labels):\n",
    "    matrix = confusion_matrix(y_test, y_pred)\n",
    "    df = pd.DataFrame(matrix,columns=['predicted '+i for i in labels], index=['actual '+i for i in labels])\n",
    "    df.style.set_properties(**{'width':'6em', 'text-align':'center'}).set_table_styles([dict(selector=\"th\", props=[('text-align', 'center')])])\n",
    "    return df"
   ]
  },
  {
   "cell_type": "code",
   "execution_count": 37,
   "id": "06b6354f",
   "metadata": {},
   "outputs": [],
   "source": [
    "data = pd.read_csv(\"diabetes_prediction_dataset.csv\")"
   ]
  },
  {
   "cell_type": "code",
   "execution_count": 70,
   "id": "81eb4c6b",
   "metadata": {},
   "outputs": [
    {
     "data": {
      "text/html": [
       "<div>\n",
       "<style scoped>\n",
       "    .dataframe tbody tr th:only-of-type {\n",
       "        vertical-align: middle;\n",
       "    }\n",
       "\n",
       "    .dataframe tbody tr th {\n",
       "        vertical-align: top;\n",
       "    }\n",
       "\n",
       "    .dataframe thead th {\n",
       "        text-align: right;\n",
       "    }\n",
       "</style>\n",
       "<table border=\"1\" class=\"dataframe\">\n",
       "  <thead>\n",
       "    <tr style=\"text-align: right;\">\n",
       "      <th></th>\n",
       "      <th>gender</th>\n",
       "      <th>age</th>\n",
       "      <th>hypertension</th>\n",
       "      <th>heart_disease</th>\n",
       "      <th>smoking_history</th>\n",
       "      <th>bmi</th>\n",
       "      <th>HbA1c_level</th>\n",
       "      <th>blood_glucose_level</th>\n",
       "      <th>diabetes</th>\n",
       "    </tr>\n",
       "  </thead>\n",
       "  <tbody>\n",
       "    <tr>\n",
       "      <th>0</th>\n",
       "      <td>Female</td>\n",
       "      <td>80.0</td>\n",
       "      <td>0</td>\n",
       "      <td>1</td>\n",
       "      <td>never</td>\n",
       "      <td>25.19</td>\n",
       "      <td>6.6</td>\n",
       "      <td>140</td>\n",
       "      <td>0</td>\n",
       "    </tr>\n",
       "    <tr>\n",
       "      <th>1</th>\n",
       "      <td>Female</td>\n",
       "      <td>54.0</td>\n",
       "      <td>0</td>\n",
       "      <td>0</td>\n",
       "      <td>No Info</td>\n",
       "      <td>27.32</td>\n",
       "      <td>6.6</td>\n",
       "      <td>80</td>\n",
       "      <td>0</td>\n",
       "    </tr>\n",
       "    <tr>\n",
       "      <th>2</th>\n",
       "      <td>Male</td>\n",
       "      <td>28.0</td>\n",
       "      <td>0</td>\n",
       "      <td>0</td>\n",
       "      <td>never</td>\n",
       "      <td>27.32</td>\n",
       "      <td>5.7</td>\n",
       "      <td>158</td>\n",
       "      <td>0</td>\n",
       "    </tr>\n",
       "    <tr>\n",
       "      <th>3</th>\n",
       "      <td>Female</td>\n",
       "      <td>36.0</td>\n",
       "      <td>0</td>\n",
       "      <td>0</td>\n",
       "      <td>current</td>\n",
       "      <td>23.45</td>\n",
       "      <td>5.0</td>\n",
       "      <td>155</td>\n",
       "      <td>0</td>\n",
       "    </tr>\n",
       "    <tr>\n",
       "      <th>4</th>\n",
       "      <td>Male</td>\n",
       "      <td>76.0</td>\n",
       "      <td>1</td>\n",
       "      <td>1</td>\n",
       "      <td>current</td>\n",
       "      <td>20.14</td>\n",
       "      <td>4.8</td>\n",
       "      <td>155</td>\n",
       "      <td>0</td>\n",
       "    </tr>\n",
       "    <tr>\n",
       "      <th>...</th>\n",
       "      <td>...</td>\n",
       "      <td>...</td>\n",
       "      <td>...</td>\n",
       "      <td>...</td>\n",
       "      <td>...</td>\n",
       "      <td>...</td>\n",
       "      <td>...</td>\n",
       "      <td>...</td>\n",
       "      <td>...</td>\n",
       "    </tr>\n",
       "    <tr>\n",
       "      <th>99995</th>\n",
       "      <td>Female</td>\n",
       "      <td>80.0</td>\n",
       "      <td>0</td>\n",
       "      <td>0</td>\n",
       "      <td>No Info</td>\n",
       "      <td>27.32</td>\n",
       "      <td>6.2</td>\n",
       "      <td>90</td>\n",
       "      <td>0</td>\n",
       "    </tr>\n",
       "    <tr>\n",
       "      <th>99996</th>\n",
       "      <td>Female</td>\n",
       "      <td>2.0</td>\n",
       "      <td>0</td>\n",
       "      <td>0</td>\n",
       "      <td>No Info</td>\n",
       "      <td>17.37</td>\n",
       "      <td>6.5</td>\n",
       "      <td>100</td>\n",
       "      <td>0</td>\n",
       "    </tr>\n",
       "    <tr>\n",
       "      <th>99997</th>\n",
       "      <td>Male</td>\n",
       "      <td>66.0</td>\n",
       "      <td>0</td>\n",
       "      <td>0</td>\n",
       "      <td>former</td>\n",
       "      <td>27.83</td>\n",
       "      <td>5.7</td>\n",
       "      <td>155</td>\n",
       "      <td>0</td>\n",
       "    </tr>\n",
       "    <tr>\n",
       "      <th>99998</th>\n",
       "      <td>Female</td>\n",
       "      <td>24.0</td>\n",
       "      <td>0</td>\n",
       "      <td>0</td>\n",
       "      <td>never</td>\n",
       "      <td>35.42</td>\n",
       "      <td>4.0</td>\n",
       "      <td>100</td>\n",
       "      <td>0</td>\n",
       "    </tr>\n",
       "    <tr>\n",
       "      <th>99999</th>\n",
       "      <td>Female</td>\n",
       "      <td>57.0</td>\n",
       "      <td>0</td>\n",
       "      <td>0</td>\n",
       "      <td>current</td>\n",
       "      <td>22.43</td>\n",
       "      <td>6.6</td>\n",
       "      <td>90</td>\n",
       "      <td>0</td>\n",
       "    </tr>\n",
       "  </tbody>\n",
       "</table>\n",
       "<p>100000 rows × 9 columns</p>\n",
       "</div>"
      ],
      "text/plain": [
       "       gender   age  hypertension  heart_disease smoking_history    bmi  \\\n",
       "0      Female  80.0             0              1           never  25.19   \n",
       "1      Female  54.0             0              0         No Info  27.32   \n",
       "2        Male  28.0             0              0           never  27.32   \n",
       "3      Female  36.0             0              0         current  23.45   \n",
       "4        Male  76.0             1              1         current  20.14   \n",
       "...       ...   ...           ...            ...             ...    ...   \n",
       "99995  Female  80.0             0              0         No Info  27.32   \n",
       "99996  Female   2.0             0              0         No Info  17.37   \n",
       "99997    Male  66.0             0              0          former  27.83   \n",
       "99998  Female  24.0             0              0           never  35.42   \n",
       "99999  Female  57.0             0              0         current  22.43   \n",
       "\n",
       "       HbA1c_level  blood_glucose_level  diabetes  \n",
       "0              6.6                  140         0  \n",
       "1              6.6                   80         0  \n",
       "2              5.7                  158         0  \n",
       "3              5.0                  155         0  \n",
       "4              4.8                  155         0  \n",
       "...            ...                  ...       ...  \n",
       "99995          6.2                   90         0  \n",
       "99996          6.5                  100         0  \n",
       "99997          5.7                  155         0  \n",
       "99998          4.0                  100         0  \n",
       "99999          6.6                   90         0  \n",
       "\n",
       "[100000 rows x 9 columns]"
      ]
     },
     "execution_count": 70,
     "metadata": {},
     "output_type": "execute_result"
    }
   ],
   "source": [
    "data"
   ]
  },
  {
   "cell_type": "markdown",
   "id": "87514673",
   "metadata": {},
   "source": [
    "<h3 style=\"text-align: center\"> Data Preprocessing </h3>"
   ]
  },
  {
   "cell_type": "code",
   "execution_count": 71,
   "id": "b649b072",
   "metadata": {},
   "outputs": [],
   "source": [
    "# Assuming your DataFrame is called 'df' and the column is 'gender'\n",
    "value_counts = data['gender'].value_counts()\n",
    "#Encode the data\n",
    "data = pd.read_csv(\"diabetes_prediction_dataset.csv\")\n",
    "\n",
    "one_hot_encoded = pd.get_dummies(data['gender'])\n",
    "data = pd.concat([one_hot_encoded, data], axis=1)\n",
    "data = data.drop(\"gender\", axis=1)\n",
    "\n",
    "one_hot_encoded = pd.get_dummies(data['smoking_history'])\n",
    "data = pd.concat([one_hot_encoded, data], axis=1)\n",
    "data = data.drop(\"smoking_history\",axis=1)\n",
    "\n",
    "#normalize each feature by dividing by the maximum\n",
    "data = data / data.max()\n"
   ]
  },
  {
   "cell_type": "code",
   "execution_count": 72,
   "id": "c5bf5d0a",
   "metadata": {},
   "outputs": [
    {
     "data": {
      "text/html": [
       "<div>\n",
       "<style scoped>\n",
       "    .dataframe tbody tr th:only-of-type {\n",
       "        vertical-align: middle;\n",
       "    }\n",
       "\n",
       "    .dataframe tbody tr th {\n",
       "        vertical-align: top;\n",
       "    }\n",
       "\n",
       "    .dataframe thead th {\n",
       "        text-align: right;\n",
       "    }\n",
       "</style>\n",
       "<table border=\"1\" class=\"dataframe\">\n",
       "  <thead>\n",
       "    <tr style=\"text-align: right;\">\n",
       "      <th></th>\n",
       "      <th>No Info</th>\n",
       "      <th>current</th>\n",
       "      <th>ever</th>\n",
       "      <th>former</th>\n",
       "      <th>never</th>\n",
       "      <th>not current</th>\n",
       "      <th>Female</th>\n",
       "      <th>Male</th>\n",
       "      <th>Other</th>\n",
       "      <th>age</th>\n",
       "      <th>hypertension</th>\n",
       "      <th>heart_disease</th>\n",
       "      <th>bmi</th>\n",
       "      <th>HbA1c_level</th>\n",
       "      <th>blood_glucose_level</th>\n",
       "      <th>diabetes</th>\n",
       "    </tr>\n",
       "  </thead>\n",
       "  <tbody>\n",
       "    <tr>\n",
       "      <th>0</th>\n",
       "      <td>0.0</td>\n",
       "      <td>0.0</td>\n",
       "      <td>0.0</td>\n",
       "      <td>0.0</td>\n",
       "      <td>1.0</td>\n",
       "      <td>0.0</td>\n",
       "      <td>1.0</td>\n",
       "      <td>0.0</td>\n",
       "      <td>0.0</td>\n",
       "      <td>1.000</td>\n",
       "      <td>0.0</td>\n",
       "      <td>1.0</td>\n",
       "      <td>0.263246</td>\n",
       "      <td>0.733333</td>\n",
       "      <td>0.466667</td>\n",
       "      <td>0.0</td>\n",
       "    </tr>\n",
       "    <tr>\n",
       "      <th>1</th>\n",
       "      <td>1.0</td>\n",
       "      <td>0.0</td>\n",
       "      <td>0.0</td>\n",
       "      <td>0.0</td>\n",
       "      <td>0.0</td>\n",
       "      <td>0.0</td>\n",
       "      <td>1.0</td>\n",
       "      <td>0.0</td>\n",
       "      <td>0.0</td>\n",
       "      <td>0.675</td>\n",
       "      <td>0.0</td>\n",
       "      <td>0.0</td>\n",
       "      <td>0.285505</td>\n",
       "      <td>0.733333</td>\n",
       "      <td>0.266667</td>\n",
       "      <td>0.0</td>\n",
       "    </tr>\n",
       "    <tr>\n",
       "      <th>2</th>\n",
       "      <td>0.0</td>\n",
       "      <td>0.0</td>\n",
       "      <td>0.0</td>\n",
       "      <td>0.0</td>\n",
       "      <td>1.0</td>\n",
       "      <td>0.0</td>\n",
       "      <td>0.0</td>\n",
       "      <td>1.0</td>\n",
       "      <td>0.0</td>\n",
       "      <td>0.350</td>\n",
       "      <td>0.0</td>\n",
       "      <td>0.0</td>\n",
       "      <td>0.285505</td>\n",
       "      <td>0.633333</td>\n",
       "      <td>0.526667</td>\n",
       "      <td>0.0</td>\n",
       "    </tr>\n",
       "    <tr>\n",
       "      <th>3</th>\n",
       "      <td>0.0</td>\n",
       "      <td>1.0</td>\n",
       "      <td>0.0</td>\n",
       "      <td>0.0</td>\n",
       "      <td>0.0</td>\n",
       "      <td>0.0</td>\n",
       "      <td>1.0</td>\n",
       "      <td>0.0</td>\n",
       "      <td>0.0</td>\n",
       "      <td>0.450</td>\n",
       "      <td>0.0</td>\n",
       "      <td>0.0</td>\n",
       "      <td>0.245062</td>\n",
       "      <td>0.555556</td>\n",
       "      <td>0.516667</td>\n",
       "      <td>0.0</td>\n",
       "    </tr>\n",
       "    <tr>\n",
       "      <th>4</th>\n",
       "      <td>0.0</td>\n",
       "      <td>1.0</td>\n",
       "      <td>0.0</td>\n",
       "      <td>0.0</td>\n",
       "      <td>0.0</td>\n",
       "      <td>0.0</td>\n",
       "      <td>0.0</td>\n",
       "      <td>1.0</td>\n",
       "      <td>0.0</td>\n",
       "      <td>0.950</td>\n",
       "      <td>1.0</td>\n",
       "      <td>1.0</td>\n",
       "      <td>0.210471</td>\n",
       "      <td>0.533333</td>\n",
       "      <td>0.516667</td>\n",
       "      <td>0.0</td>\n",
       "    </tr>\n",
       "  </tbody>\n",
       "</table>\n",
       "</div>"
      ],
      "text/plain": [
       "   No Info  current  ever  former  never  not current  Female  Male  Other  \\\n",
       "0      0.0      0.0   0.0     0.0    1.0          0.0     1.0   0.0    0.0   \n",
       "1      1.0      0.0   0.0     0.0    0.0          0.0     1.0   0.0    0.0   \n",
       "2      0.0      0.0   0.0     0.0    1.0          0.0     0.0   1.0    0.0   \n",
       "3      0.0      1.0   0.0     0.0    0.0          0.0     1.0   0.0    0.0   \n",
       "4      0.0      1.0   0.0     0.0    0.0          0.0     0.0   1.0    0.0   \n",
       "\n",
       "     age  hypertension  heart_disease       bmi  HbA1c_level  \\\n",
       "0  1.000           0.0            1.0  0.263246     0.733333   \n",
       "1  0.675           0.0            0.0  0.285505     0.733333   \n",
       "2  0.350           0.0            0.0  0.285505     0.633333   \n",
       "3  0.450           0.0            0.0  0.245062     0.555556   \n",
       "4  0.950           1.0            1.0  0.210471     0.533333   \n",
       "\n",
       "   blood_glucose_level  diabetes  \n",
       "0             0.466667       0.0  \n",
       "1             0.266667       0.0  \n",
       "2             0.526667       0.0  \n",
       "3             0.516667       0.0  \n",
       "4             0.516667       0.0  "
      ]
     },
     "execution_count": 72,
     "metadata": {},
     "output_type": "execute_result"
    }
   ],
   "source": [
    "data.head()"
   ]
  },
  {
   "cell_type": "markdown",
   "id": "794ee897",
   "metadata": {},
   "source": [
    "We now want to check if there are duplicate rows, if so, we will drop them as this will impact our model's prediction. Indeed, if the test data contains data that the model has already been trained on, then the model will have a high accuracy, but we will not know how it would perform with data it has never seen."
   ]
  },
  {
   "cell_type": "code",
   "execution_count": 73,
   "id": "6906d22d",
   "metadata": {},
   "outputs": [
    {
     "name": "stdout",
     "output_type": "stream",
     "text": [
      "Number of duplicates: 3854 \n",
      "Number of NaN values: 0\n"
     ]
    }
   ],
   "source": [
    "isnasum = data.isna().sum()\n",
    "print(\"Number of duplicates:\", data.duplicated().sum(), \"\\nNumber of NaN values:\",isnasum.sum())"
   ]
  },
  {
   "cell_type": "markdown",
   "id": "2af597d2",
   "metadata": {},
   "source": [
    "We see that there are quite a few duplicates. We will consider that they are indeed all different persons (which is plausible considering the features), but this means we must deviate from the usual strategy of dividing the dataset into different test and train sets, by making sure all the duplicates are either in the test set, or the train set, bu never in both. This should prevent testing the model on data it has already seen, and prevent the risk of high accuracy score if the model overfits the testing data. "
   ]
  },
  {
   "cell_type": "markdown",
   "id": "0bdcb08e",
   "metadata": {},
   "source": [
    "Now, we will look at the correlation of each features of the data set, as well as the distribution of the data inside the dataset."
   ]
  },
  {
   "cell_type": "code",
   "execution_count": 74,
   "id": "d238db7b",
   "metadata": {},
   "outputs": [
    {
     "data": {
      "image/png": "[encoded data removed]",
      "text/plain": [
       "<Figure size 1440x1152 with 2 Axes>"
      ]
     },
     "metadata": {
      "needs_background": "light"
     },
     "output_type": "display_data"
    }
   ],
   "source": [
    "plt.figure(figsize=(20, 16))\n",
    "corr_matrix = data.corr()\n",
    "sns.heatmap(corr_matrix, annot=True, cmap=\"YlOrRd\")\n",
    "plt.title(\"Correlation Matrix Heatmap\")\n",
    "plt.show()"
   ]
  },
  {
   "cell_type": "markdown",
   "id": "ecf3e3eb",
   "metadata": {},
   "source": [
    "We notice that age is very correlated to hypertension, heart_disease and the bmi. We will see in the future if we can improve the model by removing those three features.\n",
    "\n",
    "We notice that diabetes is very correlated to HbA1c_level and blood_glucose_level.\n",
    "\n",
    "\n"
   ]
  },
  {
   "cell_type": "code",
   "execution_count": 75,
   "id": "b0fb73e7",
   "metadata": {
    "scrolled": true
   },
   "outputs": [
    {
     "name": "stdout",
     "output_type": "stream",
     "text": [
      "{'Other': 0.004089538097798295, 'current': 0.019605505835478643, 'not current': 0.02073365805714726, 'ever': 0.024080208220788095, 'never': 0.027266862939450735, 'Female': 0.037552572852130026, 'Male': 0.03766632962961672, 'former': 0.09791730613384952, 'No Info': 0.11893878667621564, 'heart_disease': 0.17172684954885264, 'hypertension': 0.197823246408052, 'bmi': 0.21435740579951126, 'age': 0.25800803335609723, 'HbA1c_level': 0.40066031464748914, 'blood_glucose_level': 0.41955799602055627, 'diabetes': 1.0}\n"
     ]
    }
   ],
   "source": [
    "corr_list_with_diabetes = dict(corr_matrix['diabetes'])\n",
    "corr_list_with_diabetes_sorted = {k: abs(v) for k, v in sorted(corr_list_with_diabetes.items(), key=lambda item: abs(item[1]))}\n",
    "\n",
    "print(corr_list_with_diabetes_sorted)\n",
    "\n"
   ]
  },
  {
   "cell_type": "markdown",
   "id": "d2f2c0e0",
   "metadata": {},
   "source": [
    "Now, let us look at the distribution of the dataset, . This is important to understand how it is distributed, as it will affect which cost function, which model would be more appropriate,..."
   ]
  },
  {
   "cell_type": "code",
   "execution_count": 76,
   "id": "e025b518",
   "metadata": {},
   "outputs": [
    {
     "data": {
      "image/png": "[encoded data removed]",
      "text/plain": [
       "<Figure size 1440x1440 with 16 Axes>"
      ]
     },
     "metadata": {
      "needs_background": "light"
     },
     "output_type": "display_data"
    }
   ],
   "source": [
    "data.describe().T\n",
    "p = data.hist(figsize = (20,20))"
   ]
  },
  {
   "cell_type": "markdown",
   "id": "1448655b",
   "metadata": {},
   "source": [
    "Here, it is extremely interesting to note that, in our dataset, the proportion of people who do not have diabetes is much more important than those who do have diabetes. Age is well distributed, so this is good because we will generalize well on people of all ages, same for gender. "
   ]
  },
  {
   "cell_type": "code",
   "execution_count": 77,
   "id": "a8dd5f0e",
   "metadata": {},
   "outputs": [
    {
     "name": "stdout",
     "output_type": "stream",
     "text": [
      "We have that 8500.0 patients have diabetes, while 91500.0 don't have it.\n"
     ]
    }
   ],
   "source": [
    "s = data['diabetes'].to_numpy()\n",
    "print(f\"We have that {sum(s)} patients have diabetes, while {len(s)-sum(s)} don't have it.\")"
   ]
  },
  {
   "cell_type": "markdown",
   "id": "62fc6420",
   "metadata": {},
   "source": [
    "Why is the above relevant? If we made a model which would systematically classify the patient as not having diabetes, we would achieve an accuracy of ~91.5%, which is good, but is clearly not what we are aiming for. The classical loss function is thus not what we might want to use."
   ]
  },
  {
   "cell_type": "code",
   "execution_count": 78,
   "id": "f18ec3c5",
   "metadata": {},
   "outputs": [
    {
     "name": "stdout",
     "output_type": "stream",
     "text": [
      "We have no info on the smoking habits of 35816.0 patients.\n"
     ]
    }
   ],
   "source": [
    "s = sum(data['No Info'].to_numpy())\n",
    "print(f\"We have no info on the smoking habits of {s} patients.\")"
   ]
  },
  {
   "cell_type": "code",
   "execution_count": 79,
   "id": "c8b20b1d",
   "metadata": {},
   "outputs": [
    {
     "data": {
      "text/html": [
       "<div>\n",
       "<style scoped>\n",
       "    .dataframe tbody tr th:only-of-type {\n",
       "        vertical-align: middle;\n",
       "    }\n",
       "\n",
       "    .dataframe tbody tr th {\n",
       "        vertical-align: top;\n",
       "    }\n",
       "\n",
       "    .dataframe thead th {\n",
       "        text-align: right;\n",
       "    }\n",
       "</style>\n",
       "<table border=\"1\" class=\"dataframe\">\n",
       "  <thead>\n",
       "    <tr style=\"text-align: right;\">\n",
       "      <th></th>\n",
       "      <th>No Info</th>\n",
       "      <th>current</th>\n",
       "      <th>ever</th>\n",
       "      <th>former</th>\n",
       "      <th>never</th>\n",
       "      <th>not current</th>\n",
       "      <th>Female</th>\n",
       "      <th>Male</th>\n",
       "      <th>Other</th>\n",
       "      <th>age</th>\n",
       "      <th>hypertension</th>\n",
       "      <th>heart_disease</th>\n",
       "      <th>bmi</th>\n",
       "      <th>HbA1c_level</th>\n",
       "      <th>blood_glucose_level</th>\n",
       "    </tr>\n",
       "  </thead>\n",
       "  <tbody>\n",
       "    <tr>\n",
       "      <th>0</th>\n",
       "      <td>0.0</td>\n",
       "      <td>0.0</td>\n",
       "      <td>0.0</td>\n",
       "      <td>0.0</td>\n",
       "      <td>1.0</td>\n",
       "      <td>0.0</td>\n",
       "      <td>1.0</td>\n",
       "      <td>0.0</td>\n",
       "      <td>0.0</td>\n",
       "      <td>1.000</td>\n",
       "      <td>0.0</td>\n",
       "      <td>1.0</td>\n",
       "      <td>0.263246</td>\n",
       "      <td>0.733333</td>\n",
       "      <td>0.466667</td>\n",
       "    </tr>\n",
       "    <tr>\n",
       "      <th>1</th>\n",
       "      <td>1.0</td>\n",
       "      <td>0.0</td>\n",
       "      <td>0.0</td>\n",
       "      <td>0.0</td>\n",
       "      <td>0.0</td>\n",
       "      <td>0.0</td>\n",
       "      <td>1.0</td>\n",
       "      <td>0.0</td>\n",
       "      <td>0.0</td>\n",
       "      <td>0.675</td>\n",
       "      <td>0.0</td>\n",
       "      <td>0.0</td>\n",
       "      <td>0.285505</td>\n",
       "      <td>0.733333</td>\n",
       "      <td>0.266667</td>\n",
       "    </tr>\n",
       "    <tr>\n",
       "      <th>2</th>\n",
       "      <td>0.0</td>\n",
       "      <td>0.0</td>\n",
       "      <td>0.0</td>\n",
       "      <td>0.0</td>\n",
       "      <td>1.0</td>\n",
       "      <td>0.0</td>\n",
       "      <td>0.0</td>\n",
       "      <td>1.0</td>\n",
       "      <td>0.0</td>\n",
       "      <td>0.350</td>\n",
       "      <td>0.0</td>\n",
       "      <td>0.0</td>\n",
       "      <td>0.285505</td>\n",
       "      <td>0.633333</td>\n",
       "      <td>0.526667</td>\n",
       "    </tr>\n",
       "    <tr>\n",
       "      <th>3</th>\n",
       "      <td>0.0</td>\n",
       "      <td>1.0</td>\n",
       "      <td>0.0</td>\n",
       "      <td>0.0</td>\n",
       "      <td>0.0</td>\n",
       "      <td>0.0</td>\n",
       "      <td>1.0</td>\n",
       "      <td>0.0</td>\n",
       "      <td>0.0</td>\n",
       "      <td>0.450</td>\n",
       "      <td>0.0</td>\n",
       "      <td>0.0</td>\n",
       "      <td>0.245062</td>\n",
       "      <td>0.555556</td>\n",
       "      <td>0.516667</td>\n",
       "    </tr>\n",
       "    <tr>\n",
       "      <th>4</th>\n",
       "      <td>0.0</td>\n",
       "      <td>1.0</td>\n",
       "      <td>0.0</td>\n",
       "      <td>0.0</td>\n",
       "      <td>0.0</td>\n",
       "      <td>0.0</td>\n",
       "      <td>0.0</td>\n",
       "      <td>1.0</td>\n",
       "      <td>0.0</td>\n",
       "      <td>0.950</td>\n",
       "      <td>1.0</td>\n",
       "      <td>1.0</td>\n",
       "      <td>0.210471</td>\n",
       "      <td>0.533333</td>\n",
       "      <td>0.516667</td>\n",
       "    </tr>\n",
       "  </tbody>\n",
       "</table>\n",
       "</div>"
      ],
      "text/plain": [
       "   No Info  current  ever  former  never  not current  Female  Male  Other  \\\n",
       "0      0.0      0.0   0.0     0.0    1.0          0.0     1.0   0.0    0.0   \n",
       "1      1.0      0.0   0.0     0.0    0.0          0.0     1.0   0.0    0.0   \n",
       "2      0.0      0.0   0.0     0.0    1.0          0.0     0.0   1.0    0.0   \n",
       "3      0.0      1.0   0.0     0.0    0.0          0.0     1.0   0.0    0.0   \n",
       "4      0.0      1.0   0.0     0.0    0.0          0.0     0.0   1.0    0.0   \n",
       "\n",
       "     age  hypertension  heart_disease       bmi  HbA1c_level  \\\n",
       "0  1.000           0.0            1.0  0.263246     0.733333   \n",
       "1  0.675           0.0            0.0  0.285505     0.733333   \n",
       "2  0.350           0.0            0.0  0.285505     0.633333   \n",
       "3  0.450           0.0            0.0  0.245062     0.555556   \n",
       "4  0.950           1.0            1.0  0.210471     0.533333   \n",
       "\n",
       "   blood_glucose_level  \n",
       "0             0.466667  \n",
       "1             0.266667  \n",
       "2             0.526667  \n",
       "3             0.516667  \n",
       "4             0.516667  "
      ]
     },
     "execution_count": 79,
     "metadata": {},
     "output_type": "execute_result"
    }
   ],
   "source": [
    "X = data.iloc[:,:-1]\n",
    "Y = data.iloc[:,-1:]\n",
    "X.head()"
   ]
  },
  {
   "cell_type": "code",
   "execution_count": 80,
   "id": "e8201188",
   "metadata": {},
   "outputs": [],
   "source": [
    "duplicate_rows = data[data.duplicated(keep=False)]\n",
    "compteur = duplicate_rows.groupby(duplicate_rows.columns.tolist()).size().to_dict()\n",
    "\n",
    "data_no_dup = data.drop_duplicates(keep=False)\n",
    "\n",
    "\n",
    "train_set, test_set = train_test_split(data_no_dup, test_size=0.25, random_state=0)\n",
    "train_set, test_set = list(train_set.to_numpy()), list(test_set.to_numpy())\n",
    "\n",
    "for (row,number) in compteur.items():\n",
    "    decision  = random.randint(0, 1)\n",
    "    if decision==0:\n",
    "        #we had to the train set\n",
    "        for _ in range(number):\n",
    "            index = random.randint(0,len(train_set))\n",
    "            train_set.insert(index,row)\n",
    "    \n",
    "    else:\n",
    "        for _ in range(number):\n",
    "            index = random.randint(0,len(test_set))\n",
    "            test_set.insert(index,row)\n",
    "\n",
    "train_set, test_set = np.array(train_set), np.array(test_set)"
   ]
  },
  {
   "cell_type": "code",
   "execution_count": 81,
   "id": "643b2ffa",
   "metadata": {},
   "outputs": [
    {
     "name": "stdout",
     "output_type": "stream",
     "text": [
      "(73379, 16) (26621, 16)\n",
      "[[0.         0.         0.         ... 0.55555556 0.42       0.        ]\n",
      " [1.         0.         0.         ... 0.67777778 0.28333333 0.        ]\n",
      " [1.         0.         0.         ... 0.55555556 0.53       0.        ]\n",
      " ...\n",
      " [1.         0.         0.         ... 0.64444444 0.66666667 0.        ]\n",
      " [0.         1.         0.         ... 0.53333333 0.28333333 0.        ]\n",
      " [1.         0.         0.         ... 0.44444444 0.26666667 0.        ]]\n"
     ]
    }
   ],
   "source": [
    "print(train_set.shape, test_set.shape)\n",
    "print(train_set)"
   ]
  },
  {
   "cell_type": "markdown",
   "id": "86da2544",
   "metadata": {},
   "source": [
    "Let us check that we correctly implemented the test and training sets."
   ]
  },
  {
   "cell_type": "code",
   "execution_count": 67,
   "id": "7a25e199",
   "metadata": {},
   "outputs": [
    {
     "name": "stdout",
     "output_type": "stream",
     "text": [
      "[[0.         0.         0.         ... 0.38833734 0.55555556 0.42      ]\n",
      " [1.         0.         0.         ... 0.20117045 0.67777778 0.28333333]\n",
      " [1.         0.         0.         ... 0.34747623 0.55555556 0.53      ]\n",
      " ...\n",
      " [1.         0.         0.         ... 0.30609259 0.64444444 0.66666667]\n",
      " [0.         1.         0.         ... 0.33253214 0.53333333 0.28333333]\n",
      " [1.         0.         0.         ... 0.34308705 0.44444444 0.26666667]] (73351, 15)\n",
      "[0. 0. 0. ... 0. 0. 0.] (73351,)\n"
     ]
    }
   ],
   "source": [
    "X_train = train_set[:, :-1]  \n",
    "Y_train = train_set[:, -1]   \n",
    "\n",
    "print(X_train, X_train.shape)\n",
    "print(Y_train, Y_train.shape)\n"
   ]
  },
  {
   "cell_type": "code",
   "execution_count": 82,
   "id": "2ef312fa",
   "metadata": {},
   "outputs": [
    {
     "name": "stdout",
     "output_type": "stream",
     "text": [
      "There are 8.602473040585677% of patients with diabetes within the training set\n"
     ]
    }
   ],
   "source": [
    "\n",
    "print(f'There are {sum(Y_train)/len(Y_train) *100}% of patients with diabetes within the training set')\n"
   ]
  },
  {
   "cell_type": "code",
   "execution_count": 83,
   "id": "4833d723",
   "metadata": {},
   "outputs": [
    {
     "name": "stdout",
     "output_type": "stream",
     "text": [
      "[[1.         0.         0.         ... 0.28550528 0.73333333 0.51666667]\n",
      " [1.         0.         0.         ... 0.21820462 0.66666667 0.53      ]\n",
      " [1.         0.         0.         ... 0.28550528 0.38888889 0.42      ]\n",
      " ...\n",
      " [0.         0.         1.         ... 0.24955586 0.53333333 0.51666667]\n",
      " [0.         0.         1.         ... 0.27442784 0.73333333 0.53333333]\n",
      " [0.         0.         1.         ... 0.31434842 0.66666667 0.26666667]] (26621, 15)\n",
      "[0. 0. 0. ... 0. 0. 0.] (26621,)\n"
     ]
    }
   ],
   "source": [
    "X_test = test_set[:, :-1]  \n",
    "Y_test = test_set[:, -1]  \n",
    "\n",
    "print(X_test, X_test.shape)\n",
    "print(Y_test, Y_test.shape)"
   ]
  },
  {
   "cell_type": "code",
   "execution_count": 17,
   "id": "38a625aa",
   "metadata": {},
   "outputs": [],
   "source": [
    "'''\n",
    "columns = ['No Info',\n",
    " 'current',\n",
    " 'ever',\n",
    " 'former',\n",
    " 'never',\n",
    " 'not current',\n",
    " 'Female', 'Male', 'Other',\n",
    " 'age',\n",
    " 'hypertension',\n",
    " 'heart_disease',\n",
    " 'bmi',\n",
    " 'HbA1c_level',\n",
    " 'blood_glucose_level']\n",
    "\n",
    "\n",
    "Y_test = pd.DataFrame(Y_test)\n",
    "Y_test.columns = ['diabetes']\n",
    "\n",
    "X_test = pd.DataFrame(X_test)\n",
    "X_test.columns = columns\n",
    "\n",
    "\n",
    "X_train = pd.DataFrame(X_train)\n",
    "X_train.columns = columns\n",
    "\n",
    "Y_train = pd.DataFrame(Y_train)\n",
    "Y_train.columns = ['diabetes']\n",
    "\n",
    "\n",
    "je crois c'est mieux de pas remettre sous forme de dataset parce que pour les logistic regression c'est pas pratique\n",
    "dites moi si vous etes daccord\n",
    "\n",
    "'''\n"
   ]
  },
  {
   "cell_type": "markdown",
   "id": "2e7bdbec",
   "metadata": {},
   "source": [
    "Let us check that we correctly implemented the test and training sets."
   ]
  },
  {
   "cell_type": "code",
   "execution_count": 7,
   "id": "5d1b852d",
   "metadata": {},
   "outputs": [
    {
     "data": {
      "text/plain": [
       "'isnasum = X_train.isna().sum()\\nprint(\"Number of duplicates:\", Y_train.duplicated().sum(), \"\\nNumber of NaN values:\",isnasum.sum())\\n\\nisnasum2 = Y_train.isna().sum()\\nprint(\"Number of duplicates:\", Y_train.duplicated().sum(), \"\\nNumber of NaN values:\",isnasum2.sum()) '"
      ]
     },
     "execution_count": 7,
     "metadata": {},
     "output_type": "execute_result"
    }
   ],
   "source": [
    "'''isnasum = X_train.isna().sum()\n",
    "print(\"Number of duplicates:\", Y_train.duplicated().sum(), \"\\nNumber of NaN values:\",isnasum.sum())\n",
    "\n",
    "isnasum2 = Y_train.isna().sum()\n",
    "print(\"Number of duplicates:\", Y_train.duplicated().sum(), \"\\nNumber of NaN values:\",isnasum2.sum()) '''"
   ]
  },
  {
   "cell_type": "markdown",
   "id": "3c5a41d6",
   "metadata": {},
   "source": [
    "## K nearest neighbours"
   ]
  },
  {
   "cell_type": "markdown",
   "id": "0c21dc78",
   "metadata": {},
   "source": [
    "Let us try with different number of neighbours and plot the accuracy of the predictions. "
   ]
  },
  {
   "cell_type": "code",
   "execution_count": null,
   "id": "fb0ade21",
   "metadata": {},
   "outputs": [],
   "source": [
    "accuracy=[]\n",
    "for n in range(1,15):\n",
    "    model = sklearn.neighbors.KNeighborsClassifier(n_neighbors=n)\n",
    "    model.fit(X_train,Y_train)\n",
    "    predictions=model.predict(X_test)\n",
    "    accuracy+=[accuracy_score(Y_test,predictions)]\n",
    "    \n",
    "plt.plot(range(1,15),accuracy)\n",
    "plt.title('Accuracy of the knn method as a function of the number of neighbours')\n",
    "plt.show()"
   ]
  },
  {
   "cell_type": "markdown",
   "id": "a4c05469",
   "metadata": {},
   "source": [
    "The best number of neighbours to maximize accuracy seems to be 1. "
   ]
  },
  {
   "cell_type": "code",
   "execution_count": null,
   "id": "e4b18209",
   "metadata": {},
   "outputs": [],
   "source": [
    "model = sklearn.neighbors.KNeighborsClassifier(1)\n",
    "model.fit(X_train,Y_train)\n",
    "y_pred=model.predict(X_test)\n",
    "conf = confusion(Y_test, y_pred, labels=['Negative', 'Positive'])"
   ]
  },
  {
   "cell_type": "markdown",
   "id": "c3e35b06",
   "metadata": {},
   "source": [
    "## Logistic Regression\n",
    "\n",
    "We will now build a logistic regression model in order to predict whether an individual has diabetes or not. In our project, we are faced with a binary logistic regression, as our output variable 'diabetes' has only 2 classes. "
   ]
  },
  {
   "cell_type": "markdown",
   "id": "2c740c34",
   "metadata": {},
   "source": [
    "We start with an arbitrary value for C, the inverse of the regularization strength, and we will later explore what value of C to use in order to improve our model the most."
   ]
  },
  {
   "cell_type": "code",
   "execution_count": null,
   "id": "357ea72e",
   "metadata": {},
   "outputs": [],
   "source": [
    "classifier = LogisticRegression(max_iter=1000)\n",
    "classifier.fit(X_train, Y_train)\n",
    "y_pred = classifier.predict(X_test)\n",
    "print(accuracy_score(Y_test, y_pred))"
   ]
  },
  {
   "cell_type": "markdown",
   "id": "2159f52d",
   "metadata": {},
   "source": [
    "The accuracy is really high, but we can try to understand better the performance of our model. We will first use a confusion matrix which is usually used to understand how well (or bad) each category is classified. In the confusion matrix, each row represents the instances of the actual values, whereas the columns count the instances of the predicted value. \n",
    "The confusion matrix will help us understand when diabetes is correctly or incorrectly predicted or not predicted. "
   ]
  },
  {
   "cell_type": "code",
   "execution_count": null,
   "id": "bb9b5ff7",
   "metadata": {},
   "outputs": [],
   "source": [
    "Y_test"
   ]
  },
  {
   "cell_type": "code",
   "execution_count": 96,
   "id": "c8d2ecb6",
   "metadata": {},
   "outputs": [
    {
     "data": {
      "text/plain": [
       "2190.0"
      ]
     },
     "execution_count": 96,
     "metadata": {},
     "output_type": "execute_result"
    }
   ],
   "source": [
    "sum(Y_test)"
   ]
  },
  {
   "cell_type": "code",
   "execution_count": 91,
   "id": "4bc44e93",
   "metadata": {},
   "outputs": [
    {
     "data": {
      "text/html": [
       "<div>\n",
       "<style scoped>\n",
       "    .dataframe tbody tr th:only-of-type {\n",
       "        vertical-align: middle;\n",
       "    }\n",
       "\n",
       "    .dataframe tbody tr th {\n",
       "        vertical-align: top;\n",
       "    }\n",
       "\n",
       "    .dataframe thead th {\n",
       "        text-align: right;\n",
       "    }\n",
       "</style>\n",
       "<table border=\"1\" class=\"dataframe\">\n",
       "  <thead>\n",
       "    <tr style=\"text-align: right;\">\n",
       "      <th></th>\n",
       "      <th>predicted Negative</th>\n",
       "      <th>predicted Positive</th>\n",
       "    </tr>\n",
       "  </thead>\n",
       "  <tbody>\n",
       "    <tr>\n",
       "      <th>actual Negative</th>\n",
       "      <td>24229</td>\n",
       "      <td>202</td>\n",
       "    </tr>\n",
       "    <tr>\n",
       "      <th>actual Positive</th>\n",
       "      <td>838</td>\n",
       "      <td>1352</td>\n",
       "    </tr>\n",
       "  </tbody>\n",
       "</table>\n",
       "</div>"
      ],
      "text/plain": [
       "                 predicted Negative  predicted Positive\n",
       "actual Negative               24229                 202\n",
       "actual Positive                 838                1352"
      ]
     },
     "execution_count": 91,
     "metadata": {},
     "output_type": "execute_result"
    }
   ],
   "source": [
    "conf = confusion(Y_test, y_pred, labels=['Negative', 'Positive'])\n",
    "conf"
   ]
  },
  {
   "cell_type": "code",
   "execution_count": 106,
   "id": "9f2f6dd8",
   "metadata": {},
   "outputs": [
    {
     "name": "stdout",
     "output_type": "stream",
     "text": [
      "0.008268183864761983 0.382648401826484\n"
     ]
    }
   ],
   "source": [
    "false_pos = conf.iloc[0,1]\n",
    "false_neg = conf.iloc[1,0]\n",
    "true_neg = conf.iloc[0,0]\n",
    "true_pos = conf.iloc[1,1]\n",
    "\n",
    "neg_inc = false_pos / (false_pos + true_neg)\n",
    "pos_inc = false_neg / (false_neg + true_pos)\n",
    "print(neg_inc, pos_inc)"
   ]
  },
  {
   "cell_type": "code",
   "execution_count": 110,
   "id": "b8a7125d",
   "metadata": {},
   "outputs": [
    {
     "name": "stdout",
     "output_type": "stream",
     "text": [
      "0.8268183864761982 % of the actual negatives were incorrectly predicted \n",
      "38.2648401826484 % of the actual Positives were incorrectly predicted\n"
     ]
    }
   ],
   "source": [
    "print(f'{neg_inc*100} % of the actual negatives were incorrectly predicted \\n{pos_inc*100} % of the actual Positives were incorrectly predicted')"
   ]
  },
  {
   "cell_type": "markdown",
   "id": "d28e6a30",
   "metadata": {},
   "source": [
    "We see that the fraction of incorrectly predicted positives is much larger than for patients which do not have diabetes. This questions the performance of this model.\n",
    "Although the accuracy is really high, the model does not perform according to this accuracy as only 62% of the patients with diabetes would be correctly predicted. This is because, as explained before, the model contains 91.5% of people without diabetes and is trained (as checked previously) on a dataset with only 8.6% of ill patients. We are faced with a problem of imbalanced classification. \n",
    "\n",
    "As we said, the problem with our dataset is that it is imbalanced, so looking at the accuracy is not enough. This invites us to look at other metrics, in particular the F1 and F2 Scores which look at the precision and recall metrics: \n",
    "Precision counts the number of positives that are correct within all the data that has been predicted as positive. Its formula is given by: $$\\text{precision} = \\frac{\\text{# of True positives}}{\\text{# of True positives}+\\text{# of False positives}} $$\n",
    "\n",
    "Recall counts the number of positives that the model has succeeded to find, within everything that is actually positive. (This is what we computed earlier with the confusion matrix). Its formula is: $$\\text{recall} = \\frac{\\text{# of True positives}}{\\text{# of True positives}+\\text{# of False negatives}} $$\n",
    "\n",
    "Ideally, we would want a high recall and a high precision, but there exists a tradeoff between both, which is why we will look at the F1 and F2 Scores. F1 being the harmonic mean of both and F2 being the weighted harmonic mean of both. The formula of F1 is: $$ \\text{F}1 = 2\\times \\frac{\\text{precision} \\times \\text{recall}}{\\text{precision} + \\text{recall}}$$ and the one for F2, which comes from the $\\text{F}_\\beta$ is:\n",
    "$$ \\text{F}2 = (1+2^2)\\times \\frac{\\text{precision} \\times \\text{recall}}{(2^2\\cdot\\text{precision}) + \\text{recall}}$$\n",
    "\n",
    "The reason why we are also interested in the F2 score and not only F1, is because it places more importance on the recall, ie on giving a correct prediction to patients with diabetes. In our case, this is more valuable than the precision. A high precision means that we did not have many false positives, ie that we did not incorrectly tell patients which don't have diabetes that they have diabetes, whereas a high recall means that we did not incorrectly tell people with diabetes that they do not have diabetes. In our case, the latter is much more important."
   ]
  },
  {
   "cell_type": "code",
   "execution_count": 8,
   "id": "50cddd2d",
   "metadata": {},
   "outputs": [
    {
     "ename": "NameError",
     "evalue": "name 'Y_test' is not defined",
     "output_type": "error",
     "traceback": [
      "\u001b[0;31m---------------------------------------------------------------------------\u001b[0m",
      "\u001b[0;31mNameError\u001b[0m                                 Traceback (most recent call last)",
      "Input \u001b[0;32mIn [8]\u001b[0m, in \u001b[0;36m<cell line: 1>\u001b[0;34m()\u001b[0m\n\u001b[0;32m----> 1\u001b[0m precision \u001b[38;5;241m=\u001b[39m precision_score(\u001b[43mY_test\u001b[49m, y_pred)\n\u001b[1;32m      2\u001b[0m recall \u001b[38;5;241m=\u001b[39m recall_score(Y_test, y_pred)\n\u001b[1;32m      3\u001b[0m f1 \u001b[38;5;241m=\u001b[39m f1_score(Y_test, y_pred)\n",
      "\u001b[0;31mNameError\u001b[0m: name 'Y_test' is not defined"
     ]
    }
   ],
   "source": [
    "precision = precision_score(Y_test, y_pred)\n",
    "recall = recall_score(Y_test, y_pred)\n",
    "f1 = f1_score(Y_test, y_pred)\n",
    "f2 = fbeta_score(Y_test, y_pred, beta=2)\n",
    "print(f'In the simple logistic regression: \\nThe precision score is {precision} \\nThe recall score is {recall} \\nThe F1 Score is {f1} \\nThe F2 Score is {f2}')"
   ]
  },
  {
   "cell_type": "markdown",
   "id": "f93fe431",
   "metadata": {},
   "source": [
    "The F1 Score is already pretty good, but the F2 Score not really. We will look at two other ways to face the problem of umbalanced data: cross-validation and resampling, both using other metrics than accuracy."
   ]
  },
  {
   "cell_type": "markdown",
   "id": "b4520f0a",
   "metadata": {},
   "source": [
    "This invites us to calculate the F1 Score, and implementing an implicit cost matrix which we will seek to optimize"
   ]
  },
  {
   "cell_type": "markdown",
   "id": "49ac9d7b",
   "metadata": {},
   "source": [
    "### Solving Imbalanced data through cross-validation and hyper-parameter tuning  (using the F1 and F2 Score)"
   ]
  },
  {
   "cell_type": "markdown",
   "id": "1ca68d19",
   "metadata": {},
   "source": [
    "We find that the optimal parameter for C is C=100. We will now find the best number of folds using this value for the hyperparameter. To do this, we will first look at the best hyperparameter c that optimizes our model's performance, with the f1 score. Then, we will iterate through a range of possible values for k, train the classifier with this C, and test our data to compute the resulting f1_scores. This will give uss the best number of folds for which we achieve the highest F1 Score."
   ]
  },
  {
   "cell_type": "code",
   "execution_count": null,
   "id": "edb7cb05",
   "metadata": {},
   "outputs": [],
   "source": [
    "classifier = LogisticRegression(max_iter=1000)\n",
    "scoring1 = make_scorer(f1_score) \n",
    "scoring2 = make_scorer(fbeta_score, beta=2)\n",
    "param_grid = {\"C\": [0.00001, 0.0001, 0.001, 0.01, 0.1, 1, 10, 100, 1000]}\n",
    "\n",
    "grid1 = GridSearchCV(classifier, param_grid, scoring=scoring1, cv=5)\n",
    "grid1.fit(X_train, Y_train)\n",
    "\n",
    "grid2 = GridSearchCV(classifier, param_grid, scoring=scoring2, cv=5)\n",
    "grid2.fit(X_train, Y_train)\n",
    "\n",
    "best_estimator1 = grid1.best_estimator_\n",
    "best_estimator2 = grid2.best_estimator_\n",
    "best_f1_score = grid1.best_score_\n",
    "best_f2_score = grid2.best_score_\n",
    "\n",
    "print(f'The best estimator found with F1 scoring is: {best_estimator1}')\n",
    "print(f'The best estimator found with F2 scoring is: {best_estimator2}')\n",
    "print(f'The best F1 Score we got was: {best_f1_score}')\n",
    "print(f'The best F2 Score we got was: {best_f2_score}')"
   ]
  },
  {
   "cell_type": "code",
   "execution_count": null,
   "id": "dfaa190c",
   "metadata": {},
   "outputs": [],
   "source": [
    "results1_df = pd.DataFrame(grid1.cv_results_)\n",
    "results2_df = pd.DataFrame(grid2.cv_results_)\n",
    "C_values = param_grid['C']\n",
    "plt.figure(figsize=(10, 6))\n",
    "plt.plot(C_values, results1_df['mean_test_score'], marker='o', linestyle='-', label='Mean F1 Score')\n",
    "plt.plot(C_values, results2_df['mean_test_score'], marker='o', linestyle='-', label='Mean F2 Score')\n",
    "plt.xlabel('C')\n",
    "plt.ylabel('Score')\n",
    "plt.title('Grid Search Results')\n",
    "plt.legend()\n",
    "plt.show()"
   ]
  },
  {
   "cell_type": "markdown",
   "id": "e752b663",
   "metadata": {},
   "source": [
    "In both cases (optimizing wrt the F1 or F2 metric), the best hyperparameter C is 100. We will now perform cross validation with this C. We will remove the duplicates to avoid any potential data leaks and testing on the same data as the training one."
   ]
  },
  {
   "cell_type": "code",
   "execution_count": null,
   "id": "2423d94b",
   "metadata": {},
   "outputs": [],
   "source": [
    "nodup = data.drop_duplicates()\n",
    "X_nodup = nodup.iloc[:,:-1].to_numpy()\n",
    "Y_nodup = nodup.iloc[:,-1:].to_numpy()\n",
    "print(X_nodup, Y_nodup)\n",
    "print(X_nodup.shape, Y_nodup.shape)"
   ]
  },
  {
   "cell_type": "code",
   "execution_count": null,
   "id": "b166919b",
   "metadata": {},
   "outputs": [],
   "source": [
    "f1_scores = {}\n",
    "f2_scores = {}\n",
    "k_values = range(2, 12)\n",
    "\n",
    "classifier_cv = best_estimator1 #choosing the first or second is the same because in both cases\n",
    "for k in k_values:\n",
    "    scores_f1 = cross_val_score(classifier_cv, X_nodup, Y_nodup.reshape(96146), cv=k, scoring=make_scorer(f1_score))\n",
    "    scores_f2 = cross_val_score(classifier_cv, X_nodup, Y_nodup.reshape(96146), cv=k, scoring=make_scorer(fbeta_score, beta=2))\n",
    "    f1_scores[k] = scores_f1.mean()\n",
    "    f2_scores[k] = scores_f2.mean()\n",
    "\n",
    "best_k_f1 = max(f1_scores, key=f1_scores.get)\n",
    "best_f1_score = f1_scores[best_k_f1]\n",
    "\n",
    "best_k_f2 = max(f2_scores, key=f2_scores.get)\n",
    "best_f2_score = f2_scores[best_k_f2]\n",
    "\n",
    "print(f1_scores)\n",
    "print(f'The best number of folds for F1 score is: {best_k_f1}')\n",
    "print(f\"The best F1 score achieved: {best_f1_score}\")\n",
    "\n",
    "print(f\"The best number of folds (k) for F2 score: {best_k_f2}\")\n",
    "print(f\"The best F2 score achieved: {best_f2_score}\")"
   ]
  },
  {
   "cell_type": "markdown",
   "id": "72af0483",
   "metadata": {},
   "source": [
    "Unfortunately, cross validation does not improve the f1 nor the f2 score very much, which we could've predicted. We will now try the resampling method, which should be more adapted for dealing with unbalanced data."
   ]
  },
  {
   "cell_type": "markdown",
   "id": "e5ea5f57",
   "metadata": {},
   "source": [
    "### Solving Imbalanced data through resampling "
   ]
  },
  {
   "cell_type": "markdown",
   "id": "efe62cd1",
   "metadata": {},
   "source": [
    "We will now use the resampling technique, which consists of either undersampling, or oversampling. Undersampling results in randomly selecting instances from the majority class, the negative class (patients without diabetes), and removing them from the dataset. On the other hand, Oversampling involves generating synthetic samples in the minority class to increase its representation. However, both of these methods have some cons: undersampling may remove valuable information, while undersampling may generate data that does not accurately represent the distribution of the minority class. We will test out both methods and analyse the results. "
   ]
  },
  {
   "cell_type": "code",
   "execution_count": 9,
   "id": "065e8524",
   "metadata": {},
   "outputs": [
    {
     "ename": "NameError",
     "evalue": "name 'Y_train' is not defined",
     "output_type": "error",
     "traceback": [
      "\u001b[0;31m---------------------------------------------------------------------------\u001b[0m",
      "\u001b[0;31mNameError\u001b[0m                                 Traceback (most recent call last)",
      "Input \u001b[0;32mIn [9]\u001b[0m, in \u001b[0;36m<cell line: 1>\u001b[0;34m()\u001b[0m\n\u001b[0;32m----> 1\u001b[0m Y_pd \u001b[38;5;241m=\u001b[39m pd\u001b[38;5;241m.\u001b[39mDataFrame(\u001b[43mY_train\u001b[49m)\n\u001b[1;32m      2\u001b[0m Y_pd\u001b[38;5;241m.\u001b[39mhist(figsize \u001b[38;5;241m=\u001b[39m (\u001b[38;5;241m8\u001b[39m,\u001b[38;5;241m6\u001b[39m))\n",
      "\u001b[0;31mNameError\u001b[0m: name 'Y_train' is not defined"
     ]
    }
   ],
   "source": [
    "Y_pd = pd.DataFrame(Y_train)\n",
    "Y_pd.hist(figsize = (8,6))"
   ]
  },
  {
   "cell_type": "markdown",
   "id": "98eff5f4",
   "metadata": {},
   "source": [
    "#### Oversampling\n",
    "For Over Sampling, we use the imbalanced-learn built in Synthetic Minority Oversampling Technique (SMOTE), this one resamples our data synthetically so that the minority data is duplicated to reach the same number as the majority data. SMOTE works using the kNN method, it selects a random sample from the minority class, finds its k-nearest neighbors and selects a random one. Then generates synthetic sample between the sample and the neighbor, by computing a linear combination of the difference between their features. "
   ]
  },
  {
   "cell_type": "code",
   "execution_count": null,
   "id": "b9dc6fc9",
   "metadata": {},
   "outputs": [],
   "source": [
    "smote = SMOTE(random_state = 101)\n",
    "X_train_os, Y_train_os = smote.fit_resample(X_train, Y_train)\n",
    "Y_os_pd = pd.DataFrame(Y_train_os)\n",
    "Y_os_pd.hist(figsize=(8,6))\n",
    "\n",
    "plt.xlabel('Values of our resampled Y_train')\n",
    "plt.ylabel('Number of instances')\n",
    "\n",
    "plt.show()"
   ]
  },
  {
   "cell_type": "code",
   "execution_count": null,
   "id": "7514c9a8",
   "metadata": {},
   "outputs": [],
   "source": [
    "classifier_os = LogisticRegression(max_iter=1000)\n",
    "classifier_os.fit(X_train_os, Y_train_os)\n",
    "\n",
    "y_pred_os = classifier_os.predict(X_test)"
   ]
  },
  {
   "cell_type": "code",
   "execution_count": null,
   "id": "241f003a",
   "metadata": {},
   "outputs": [],
   "source": [
    "conf_os = confusion(Y_test, y_pred_os, labels=['Negative', 'Positive'])\n",
    "f1, recall, precision = f1_score(Y_test, y_pred_os), recall_score(Y_test, y_pred_os), precision_score(Y_test, y_pred_os)\n",
    "f2 = fbeta_score(Y_test, y_pred_os, beta=5)\n",
    "print(f'The resulting accuracy is {accuracy_score(Y_test, y_pred_os)}')\n",
    "print(f'The resulting recall score is: {recall}\\nThe resulting precision score is: {precision}\\nThe resulting F1 score is: {f1} \\nThe resulting F2 score is: {f2}')\n",
    "conf_os"
   ]
  },
  {
   "cell_type": "markdown",
   "id": "5dd5a5d6",
   "metadata": {},
   "source": [
    "#### Undersampling\n",
    "We start by importing RandomUnderSampler from Imbalanced-learn. We then resample our training set with the built in fit_resample method. We only do this with the training data and not the test data as the test data is supposed to represent how the real world would be. It would thus be bad practice to modify it, as it would bias the reliability of our evaluation."
   ]
  },
  {
   "cell_type": "code",
   "execution_count": null,
   "id": "f5dffe86",
   "metadata": {},
   "outputs": [],
   "source": [
    "rus = RandomUnderSampler(random_state=42)\n",
    "X_train_us, Y_train_us = rus.fit_resample(X_train, Y_train)\n",
    "Y_us_pd = pd.DataFrame(Y_train_us)\n",
    "Y_us_pd.hist(figsize=(8,6))\n",
    "\n",
    "plt.xlabel('Values of our resampled Y_train')\n",
    "plt.ylabel('Number of instances')\n",
    "\n",
    "plt.show()"
   ]
  },
  {
   "cell_type": "markdown",
   "id": "08385bf5",
   "metadata": {},
   "source": [
    "We now train this new training set with Logistic Regression, run a prediction and see how this performs."
   ]
  },
  {
   "cell_type": "code",
   "execution_count": null,
   "id": "a168eb84",
   "metadata": {},
   "outputs": [],
   "source": [
    "classifier_us = LogisticRegression(max_iter=1000)\n",
    "classifier_us.fit(X_train_us, Y_train_us)\n",
    "y_pred_us = classifier_us.predict(X_test)\n",
    "conf_us = confusion(Y_test, y_pred_us, labels=['Negative', 'Positive'])\n",
    "f1, recall, precision = f1_score(Y_test, y_pred_us), recall_score(Y_test, y_pred_us), precision_score(Y_test, y_pred_us)\n",
    "f2 = fbeta_score(Y_test, y_pred_us, beta=5)\n",
    "print(conf_us, '\\n')\n",
    "print(f'The resulting accuracy is {accuracy_score(Y_test, y_pred_us)}')\n",
    "print(f'The resulting recall score is: {recall}\\nThe resulting precision score is: {precision}\\nThe resulting F1 score is: {f1} \\nThe resulting F2 score is: {f2}')\n",
    "conf_us"
   ]
  },
  {
   "cell_type": "markdown",
   "id": "bd9d2306",
   "metadata": {},
   "source": [
    "This is good news! We have achieved a model with high accuracy: 89%, and a high F2 score, the F1 score is lower as the one we had initially, but as we explained previously, our aim in this project is to give an accurate prediction to patients who have diabetes (which is what F2 places more importance on). We have successfully improved our model according to our goal.  "
   ]
  }
 ],
 "metadata": {
  "kernelspec": {
   "display_name": "Python 3 (ipykernel)",
   "language": "python",
   "name": "python3"
  },
  "language_info": {
   "codemirror_mode": {
    "name": "ipython",
    "version": 3
   },
   "file_extension": ".py",
   "mimetype": "text/x-python",
   "name": "python",
   "nbconvert_exporter": "python",
   "pygments_lexer": "ipython3",
   "version": "3.9.12"
  }
 },
 "nbformat": 4,
 "nbformat_minor": 5
}
